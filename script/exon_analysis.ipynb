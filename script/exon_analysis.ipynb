{
 "cells": [
  {
   "cell_type": "code",
   "execution_count": 2,
   "id": "ba1c6568",
   "metadata": {},
   "outputs": [],
   "source": [
    "import numpy as np\n",
    "import pandas as pd\n",
    "import seaborn as sns\n",
    "from matplotlib import pyplot as plt"
   ]
  },
  {
   "cell_type": "code",
   "execution_count": 3,
   "id": "6cff250d",
   "metadata": {},
   "outputs": [],
   "source": [
    "pd.set_option('display.width', 200) "
   ]
  },
  {
   "cell_type": "code",
   "execution_count": 4,
   "id": "405858d0",
   "metadata": {},
   "outputs": [
    {
     "name": "stdout",
     "output_type": "stream",
     "text": [
      "        geneName       name  chrom strand   txStart     txEnd  cdsStart    cdsEnd  exonCount                                         exonStarts                                           exonEnds  \\\n",
      "0  0610005C13Rik  NR_038165   chr7      -  45217218  45224600  45224600  45224600          4           [45217218, 45223836, 45224031, 45224550]           [45217803, 45223946, 45224201, 45224600]   \n",
      "1  0610005C13Rik  NR_038166   chr7      -  45217218  45224600  45224600  45224600          5  [45217218, 45220409, 45223836, 45224031, 45224...  [45217803, 45220616, 45223946, 45224201, 45224...   \n",
      "2  0610009B22Rik  NM_025319  chr11      -  51576211  51579461  51576473  51576896          2                               [51576211, 51579374]                               [51576919, 51579461]   \n",
      "3  0610009E02Rik  NR_152208   chr2      +  26335935  26348007  26348007  26348007          2                               [26335935, 26347684]                               [26336212, 26348007]   \n",
      "4  0610009E02Rik  NR_152207   chr2      +  26335935  26349393  26349393  26349393          3                     [26335935, 26347684, 26348427]                     [26336212, 26347824, 26349393]   \n",
      "\n",
      "                exonlengths                                              exons                                           exontype  \n",
      "0       [585, 110, 170, 50]  [(45217218, 45217803), (45223836, 45223946), (...  ['constitutive', 'constitutive', 'constitutive...  \n",
      "1  [585, 207, 110, 170, 50]  [(45217218, 45217803), (45220409, 45220616), (...  ['constitutive', 'unique', 'constitutive', 'co...  \n",
      "2                 [708, 87]       [(51576211, 51576919), (51579374, 51579461)]                   ['constitutive', 'constitutive']  \n",
      "3                [277, 323]       [(26335935, 26336212), (26347684, 26348007)]                           ['constitutive', 'a5ss']  \n",
      "4           [277, 140, 966]  [(26335935, 26336212), (26347684, 26347824), (...                   ['constitutive', 'a5ss', 'a3ss']  \n",
      "(47741, 14)\n"
     ]
    }
   ],
   "source": [
    "data = pd.read_csv('../data/exon_classification.csv')\n",
    "print(data.head())\n",
    "print(data.shape)"
   ]
  },
  {
   "cell_type": "markdown",
   "id": "83e4846a",
   "metadata": {},
   "source": [
    "そもそも元データの時点で重複が存在する"
   ]
  },
  {
   "cell_type": "code",
   "execution_count": 9,
   "id": "e61e4476",
   "metadata": {},
   "outputs": [
    {
     "name": "stdout",
     "output_type": "stream",
     "text": [
      "1796\n"
     ]
    }
   ],
   "source": [
    "refflat = pd.read_csv(\n",
    "    \"../data/refFlat.txt\",\n",
    "    sep=\"\\t\",\n",
    "    header=None,\n",
    "    names=[\n",
    "        \"geneName\",\n",
    "        \"name\",\n",
    "        \"chrom\",\n",
    "        \"strand\",\n",
    "        \"txStart\",\n",
    "        \"txEnd\",\n",
    "        \"cdsStart\",\n",
    "        \"cdsEnd\",\n",
    "        \"exonCount\",\n",
    "        \"exonStarts\",\n",
    "        \"exonEnds\"])\n",
    "print(refflat[\"name\"].duplicated().sum())"
   ]
  },
  {
   "cell_type": "code",
   "execution_count": null,
   "id": "6d303498",
   "metadata": {},
   "outputs": [],
   "source": [
    "duplicates = refflat[refflat.duplicated(subset=[\"name\"], keep=False)]\n",
    "print(duplicates)"
   ]
  },
  {
   "cell_type": "code",
   "execution_count": 12,
   "id": "11432d3a",
   "metadata": {},
   "outputs": [
    {
     "data": {
      "text/html": [
       "<div>\n",
       "<style scoped>\n",
       "    .dataframe tbody tr th:only-of-type {\n",
       "        vertical-align: middle;\n",
       "    }\n",
       "\n",
       "    .dataframe tbody tr th {\n",
       "        vertical-align: top;\n",
       "    }\n",
       "\n",
       "    .dataframe thead th {\n",
       "        text-align: right;\n",
       "    }\n",
       "</style>\n",
       "<table border=\"1\" class=\"dataframe\">\n",
       "  <thead>\n",
       "    <tr style=\"text-align: right;\">\n",
       "      <th></th>\n",
       "      <th>geneName</th>\n",
       "      <th>name</th>\n",
       "      <th>chrom</th>\n",
       "      <th>strand</th>\n",
       "      <th>txStart</th>\n",
       "      <th>txEnd</th>\n",
       "      <th>cdsStart</th>\n",
       "      <th>cdsEnd</th>\n",
       "      <th>exonCount</th>\n",
       "      <th>exonStarts</th>\n",
       "      <th>exonEnds</th>\n",
       "    </tr>\n",
       "  </thead>\n",
       "  <tbody>\n",
       "    <tr>\n",
       "      <th>23064</th>\n",
       "      <td>Ttn</td>\n",
       "      <td>NM_011652</td>\n",
       "      <td>chr2</td>\n",
       "      <td>-</td>\n",
       "      <td>76534327</td>\n",
       "      <td>76812891</td>\n",
       "      <td>76535374</td>\n",
       "      <td>76810526</td>\n",
       "      <td>313</td>\n",
       "      <td>76534327,76536013,76536783,76537040,76538502,7...</td>\n",
       "      <td>76535673,76536316,76536937,76537732,76538659,7...</td>\n",
       "    </tr>\n",
       "    <tr>\n",
       "      <th>23065</th>\n",
       "      <td>Ttn</td>\n",
       "      <td>NM_028004</td>\n",
       "      <td>chr2</td>\n",
       "      <td>-</td>\n",
       "      <td>76534327</td>\n",
       "      <td>76812891</td>\n",
       "      <td>76535374</td>\n",
       "      <td>76810526</td>\n",
       "      <td>192</td>\n",
       "      <td>76534327,76536013,76536783,76537040,76538502,7...</td>\n",
       "      <td>76535673,76536316,76536937,76537732,76538659,7...</td>\n",
       "    </tr>\n",
       "    <tr>\n",
       "      <th>47739</th>\n",
       "      <td>Ttn</td>\n",
       "      <td>NM_001385708</td>\n",
       "      <td>chr2</td>\n",
       "      <td>-</td>\n",
       "      <td>76534325</td>\n",
       "      <td>76812890</td>\n",
       "      <td>76535374</td>\n",
       "      <td>76810526</td>\n",
       "      <td>349</td>\n",
       "      <td>76534325,76536013,76536783,76537040,76538502,7...</td>\n",
       "      <td>76535673,76536316,76536937,76537732,76538659,7...</td>\n",
       "    </tr>\n",
       "  </tbody>\n",
       "</table>\n",
       "</div>"
      ],
      "text/plain": [
       "      geneName          name chrom strand   txStart     txEnd  cdsStart  \\\n",
       "23064      Ttn     NM_011652  chr2      -  76534327  76812891  76535374   \n",
       "23065      Ttn     NM_028004  chr2      -  76534327  76812891  76535374   \n",
       "47739      Ttn  NM_001385708  chr2      -  76534325  76812890  76535374   \n",
       "\n",
       "         cdsEnd  exonCount                                         exonStarts  \\\n",
       "23064  76810526        313  76534327,76536013,76536783,76537040,76538502,7...   \n",
       "23065  76810526        192  76534327,76536013,76536783,76537040,76538502,7...   \n",
       "47739  76810526        349  76534325,76536013,76536783,76537040,76538502,7...   \n",
       "\n",
       "                                                exonEnds  \n",
       "23064  76535673,76536316,76536937,76537732,76538659,7...  \n",
       "23065  76535673,76536316,76536937,76537732,76538659,7...  \n",
       "47739  76535673,76536316,76536937,76537732,76538659,7...  "
      ]
     },
     "execution_count": 12,
     "metadata": {},
     "output_type": "execute_result"
    }
   ],
   "source": [
    "refflat[refflat[\"geneName\"] == \"Ttn\"]"
   ]
  },
  {
   "cell_type": "markdown",
   "id": "b673072c",
   "metadata": {},
   "source": [
    "トータル遺伝子を数える  \n",
    "元データと加工データの列数は同じ。"
   ]
  },
  {
   "cell_type": "code",
   "execution_count": 7,
   "id": "ed0115ae",
   "metadata": {},
   "outputs": [
    {
     "name": "stdout",
     "output_type": "stream",
     "text": [
      "26264\n",
      "(47741, 11)\n"
     ]
    }
   ],
   "source": [
    "print(refflat[\"geneName\"].nunique())\n",
    "print(refflat.shape)"
   ]
  },
  {
   "cell_type": "code",
   "execution_count": 5,
   "id": "c76fbab0",
   "metadata": {},
   "outputs": [
    {
     "name": "stdout",
     "output_type": "stream",
     "text": [
      "26264\n",
      "(47741, 14)\n"
     ]
    }
   ],
   "source": [
    "print(data[\"geneName\"].nunique())\n",
    "print(data.shape)"
   ]
  },
  {
   "cell_type": "markdown",
   "id": "e8aed3a3",
   "metadata": {},
   "source": [
    "重複を削除し、トータル遺伝子数を再計測  \n",
    "重複分だけ列数が減少"
   ]
  },
  {
   "cell_type": "code",
   "execution_count": 9,
   "id": "32e457e7",
   "metadata": {},
   "outputs": [
    {
     "name": "stdout",
     "output_type": "stream",
     "text": [
      "26264\n",
      "(45945, 14)\n"
     ]
    }
   ],
   "source": [
    "data = data.drop_duplicates(subset=[\"name\"])\n",
    "print(data[\"geneName\"].nunique())\n",
    "print(data.shape)"
   ]
  },
  {
   "cell_type": "markdown",
   "id": "097f4405",
   "metadata": {},
   "source": [
    "遺伝子ごとにグループ化し、遺伝子あたりのスプライシングバリアント数をカウント"
   ]
  },
  {
   "cell_type": "code",
   "execution_count": 10,
   "id": "c5feef57",
   "metadata": {},
   "outputs": [
    {
     "name": "stdout",
     "output_type": "stream",
     "text": [
      "        geneName  variant_count\n",
      "0  0610005C13Rik              2\n",
      "1  0610009B22Rik              1\n",
      "2  0610009E02Rik              3\n",
      "3  0610009L18Rik              1\n",
      "4  0610010F05Rik              3\n"
     ]
    }
   ],
   "source": [
    "variant_counts = data.groupby(\"geneName\")[\"name\"].nunique().reset_index()\n",
    "variant_counts.columns = [\"geneName\", \"variant_count\"]\n",
    "print(variant_counts.head())"
   ]
  },
  {
   "cell_type": "markdown",
   "id": "b99d3ed3",
   "metadata": {},
   "source": [
    "バリアント数をdataに加える"
   ]
  },
  {
   "cell_type": "code",
   "execution_count": 11,
   "id": "ff196652",
   "metadata": {},
   "outputs": [
    {
     "name": "stdout",
     "output_type": "stream",
     "text": [
      "        geneName       name  chrom strand   txStart     txEnd  cdsStart    cdsEnd  exonCount                                         exonStarts                                           exonEnds  \\\n",
      "0  0610005C13Rik  NR_038165   chr7      -  45217218  45224600  45224600  45224600          4           [45217218, 45223836, 45224031, 45224550]           [45217803, 45223946, 45224201, 45224600]   \n",
      "1  0610005C13Rik  NR_038166   chr7      -  45217218  45224600  45224600  45224600          5  [45217218, 45220409, 45223836, 45224031, 45224...  [45217803, 45220616, 45223946, 45224201, 45224...   \n",
      "2  0610009B22Rik  NM_025319  chr11      -  51576211  51579461  51576473  51576896          2                               [51576211, 51579374]                               [51576919, 51579461]   \n",
      "3  0610009E02Rik  NR_152208   chr2      +  26335935  26348007  26348007  26348007          2                               [26335935, 26347684]                               [26336212, 26348007]   \n",
      "4  0610009E02Rik  NR_152207   chr2      +  26335935  26349393  26349393  26349393          3                     [26335935, 26347684, 26348427]                     [26336212, 26347824, 26349393]   \n",
      "5  0610009E02Rik  NR_152209   chr2      +  26335935  26349393  26349393  26349393          3                     [26335935, 26347684, 26349233]                     [26336212, 26347792, 26349393]   \n",
      "\n",
      "                exonlengths                                              exons                                           exontype  variant_count  \n",
      "0       [585, 110, 170, 50]  [(45217218, 45217803), (45223836, 45223946), (...  ['constitutive', 'constitutive', 'constitutive...              2  \n",
      "1  [585, 207, 110, 170, 50]  [(45217218, 45217803), (45220409, 45220616), (...  ['constitutive', 'unique', 'constitutive', 'co...              2  \n",
      "2                 [708, 87]       [(51576211, 51576919), (51579374, 51579461)]                   ['constitutive', 'constitutive']              1  \n",
      "3                [277, 323]       [(26335935, 26336212), (26347684, 26348007)]                           ['constitutive', 'a5ss']              3  \n",
      "4           [277, 140, 966]  [(26335935, 26336212), (26347684, 26347824), (...                   ['constitutive', 'a5ss', 'a3ss']              3  \n",
      "5           [277, 108, 160]  [(26335935, 26336212), (26347684, 26347792), (...                   ['constitutive', 'a5ss', 'a3ss']              3  \n"
     ]
    }
   ],
   "source": [
    "data = data.merge(variant_counts, on=\"geneName\", how=\"left\")\n",
    "print(data.head(6))"
   ]
  },
  {
   "cell_type": "markdown",
   "id": "f00077d6",
   "metadata": {},
   "source": [
    "cdsStart = cdsEndの場合はnon-coding, 異なる場合はcodingと定義し、\"coding\"列にデータを加える"
   ]
  },
  {
   "cell_type": "code",
   "execution_count": 12,
   "id": "89d6beaf",
   "metadata": {},
   "outputs": [
    {
     "name": "stdout",
     "output_type": "stream",
     "text": [
      "coding\n",
      "coding        38037\n",
      "non-coding     7908\n",
      "Name: count, dtype: int64\n"
     ]
    }
   ],
   "source": [
    "data[\"coding\"] =\"\"\n",
    "data.loc[data[\"cdsStart\"] == data[\"cdsEnd\"], \"coding\"] = \"non-coding\"\n",
    "data.loc[data[\"cdsStart\"] != data[\"cdsEnd\"], \"coding\"] = \"coding\"\n",
    "print(data[\"coding\"].value_counts())\n",
    "data[\"coding\"] = data[\"coding\"].astype(\"category\")"
   ]
  },
  {
   "cell_type": "markdown",
   "id": "585eb597",
   "metadata": {},
   "source": [
    "全ての遺伝子について、バリアント数の分布を可視化"
   ]
  },
  {
   "cell_type": "code",
   "execution_count": 13,
   "id": "606af673",
   "metadata": {},
   "outputs": [
    {
     "data": {
      "image/png": "[encoded data removed]",
      "text/plain": [
       "<Figure size 800x500 with 1 Axes>"
      ]
     },
     "metadata": {},
     "output_type": "display_data"
    }
   ],
   "source": [
    "plt.figure(figsize=(8, 5))\n",
    "sns.histplot(variant_counts[\"variant_count\"], bins=30, kde=False, color=\"skyblue\")\n",
    "\n",
    "plt.xlabel(\"Number of Transcript Variants per Gene\")\n",
    "plt.ylabel(\"Number of Genes\")\n",
    "plt.title(\"Distribution of Transcript Variant Counts per Gene\")\n",
    "plt.grid(True)\n",
    "plt.yscale('log')\n",
    "plt.tight_layout()\n",
    "plt.show()\n"
   ]
  },
  {
   "cell_type": "code",
   "execution_count": 14,
   "id": "4e99611f",
   "metadata": {},
   "outputs": [
    {
     "name": "stdout",
     "output_type": "stream",
     "text": [
      "      geneName  variant_count\n",
      "4559     Celf4             66\n",
      "2886    Arpp21             51\n",
      "9682   Gm32817             40\n",
      "15242     Mlip             36\n",
      "3330      Bag6             33\n"
     ]
    }
   ],
   "source": [
    "top_5_variant_counts = variant_counts.nlargest(5, \"variant_count\")\n",
    "print(top_5_variant_counts)"
   ]
  },
  {
   "cell_type": "code",
   "execution_count": 20,
   "id": "e7646d01",
   "metadata": {},
   "outputs": [
    {
     "name": "stdout",
     "output_type": "stream",
     "text": [
      "     geneName          name  chrom strand   txStart     txEnd  cdsStart    cdsEnd  exonCount                                         exonStarts                                           exonEnds  \\\n",
      "7801    Celf4  NM_001362337  chr18      -  25610676  25812805  25619894  25670812         13  [25610676, 25619850, 25624197, 25629278, 25630...  [25612768, 25620022, 25624281, 25629362, 25630...   \n",
      "7802    Celf4  NM_001146292  chr18      -  25610676  25887214  25619894  25886684         13  [25610676, 25619850, 25624137, 25629278, 25630...  [25612768, 25620022, 25624281, 25629359, 25630...   \n",
      "7803    Celf4  NM_001146293  chr18      -  25610676  25887214  25619894  25886684         13  [25610676, 25619850, 25624197, 25629278, 25630...  [25612768, 25620022, 25624281, 25629359, 25630...   \n",
      "7804    Celf4  NM_001146294  chr18      -  25610676  25887214  25619894  25886684         13  [25610676, 25619850, 25624137, 25629278, 25630...  [25612768, 25620022, 25624281, 25629362, 25630...   \n",
      "7805    Celf4  NM_001174074  chr18      -  25610676  25887214  25619894  25886684         12  [25610676, 25619850, 25629278, 25630521, 25634...  [25612768, 25620022, 25629359, 25630587, 25634...   \n",
      "7806    Celf4  NM_001362275  chr18      -  25610676  25887214  25612741  25886684         14  [25610676, 25619850, 25620296, 25624137, 25629...  [25612768, 25620022, 25620375, 25624281, 25629...   \n",
      "7807    Celf4  NM_001362276  chr18      -  25610676  25887214  25614857  25886684         15  [25610676, 25614826, 25619850, 25620296, 25624...  [25612768, 25614911, 25620022, 25620375, 25624...   \n",
      "7808    Celf4  NM_001362277  chr18      -  25610676  25887214  25614857  25886684         15  [25610676, 25614826, 25619850, 25620296, 25624...  [25612768, 25614911, 25620022, 25620375, 25624...   \n",
      "7809    Celf4  NM_001362278  chr18      -  25610676  25887214  25612741  25886684         14  [25610676, 25619850, 25620296, 25624137, 25629...  [25612768, 25620022, 25620375, 25624281, 25629...   \n",
      "7810    Celf4  NM_001362279  chr18      -  25610676  25887214  25612741  25886684         14  [25610676, 25619850, 25620296, 25624197, 25629...  [25612768, 25620022, 25620375, 25624281, 25629...   \n",
      "\n",
      "                                            exonlengths                                              exons                                           exontype  variant_count  coding  \n",
      "7801  [2092, 172, 84, 84, 66, 150, 148, 144, 80, 126...  [(25610676, 25612768), (25619850, 25620022), (...  ['cassette', 'cassette', 'cassette', 'cassette...             66  coding  \n",
      "7802  [2092, 172, 144, 81, 66, 150, 148, 144, 80, 12...  [(25610676, 25612768), (25619850, 25620022), (...  ['cassette', 'cassette', 'cassette', 'cassette...             66  coding  \n",
      "7803  [2092, 172, 84, 81, 66, 150, 148, 144, 80, 129...  [(25610676, 25612768), (25619850, 25620022), (...  ['cassette', 'cassette', 'cassette', 'cassette...             66  coding  \n",
      "7804  [2092, 172, 144, 84, 66, 150, 148, 144, 80, 12...  [(25610676, 25612768), (25619850, 25620022), (...  ['cassette', 'cassette', 'cassette', 'cassette...             66  coding  \n",
      "7805  [2092, 172, 81, 66, 150, 145, 144, 80, 129, 79...  [(25610676, 25612768), (25619850, 25620022), (...  ['cassette', 'cassette', 'cassette', 'constitu...             66  coding  \n",
      "7806  [2092, 172, 79, 144, 81, 66, 150, 148, 144, 80...  [(25610676, 25612768), (25619850, 25620022), (...  ['cassette', 'cassette', 'cassette', 'cassette...             66  coding  \n",
      "7807  [2092, 85, 172, 79, 84, 81, 66, 150, 148, 144,...  [(25610676, 25612768), (25614826, 25614911), (...  ['cassette', 'cassette', 'cassette', 'cassette...             66  coding  \n",
      "7808  [2092, 85, 172, 79, 84, 84, 66, 150, 145, 144,...  [(25610676, 25612768), (25614826, 25614911), (...  ['cassette', 'cassette', 'cassette', 'cassette...             66  coding  \n",
      "7809  [2092, 172, 79, 144, 81, 66, 150, 145, 144, 80...  [(25610676, 25612768), (25619850, 25620022), (...  ['cassette', 'cassette', 'cassette', 'cassette...             66  coding  \n",
      "7810  [2092, 172, 79, 84, 84, 66, 150, 148, 144, 80,...  [(25610676, 25612768), (25619850, 25620022), (...  ['cassette', 'cassette', 'cassette', 'cassette...             66  coding  \n"
     ]
    }
   ],
   "source": [
    "print(data[data[\"geneName\"] == \"Celf4\"].head(10))"
   ]
  },
  {
   "cell_type": "markdown",
   "id": "7450c214",
   "metadata": {},
   "source": [
    "遺伝子ごとに最大のエキソン数と、バリアント数の関係を散布図で示す"
   ]
  },
  {
   "cell_type": "code",
   "execution_count": 15,
   "id": "c5aceb42",
   "metadata": {},
   "outputs": [
    {
     "name": "stdout",
     "output_type": "stream",
     "text": [
      "        geneName  max_exon_count\n",
      "0  0610005C13Rik               5\n",
      "1  0610009B22Rik               2\n",
      "2  0610009E02Rik               3\n",
      "3  0610009L18Rik               2\n",
      "4  0610010F05Rik              23\n"
     ]
    }
   ],
   "source": [
    "exon_counts = refflat.groupby(\"geneName\")[\"exonCount\"].max().reset_index()\n",
    "exon_counts.columns = [\"geneName\", \"max_exon_count\"]\n",
    "print(exon_counts.head())"
   ]
  },
  {
   "cell_type": "code",
   "execution_count": 25,
   "id": "3743454d",
   "metadata": {},
   "outputs": [
    {
     "name": "stdout",
     "output_type": "stream",
     "text": [
      "        geneName       name chrom strand   txStart     txEnd  cdsStart    cdsEnd  exonCount                                         exonStarts                                           exonEnds  \\\n",
      "0  0610005C13Rik  NR_038165  chr7      -  45217218  45224600  45224600  45224600          4           [45217218, 45223836, 45224031, 45224550]           [45217803, 45223946, 45224201, 45224600]   \n",
      "1  0610005C13Rik  NR_038166  chr7      -  45217218  45224600  45224600  45224600          5  [45217218, 45220409, 45223836, 45224031, 45224...  [45217803, 45220616, 45223946, 45224201, 45224...   \n",
      "\n",
      "                exonlengths                                              exons                                           exontype  variant_count      coding  max_exon_count  \n",
      "0       [585, 110, 170, 50]  [(45217218, 45217803), (45223836, 45223946), (...  ['constitutive', 'constitutive', 'constitutive...              2  non-coding               5  \n",
      "1  [585, 207, 110, 170, 50]  [(45217218, 45217803), (45220409, 45220616), (...  ['constitutive', 'unique', 'constitutive', 'co...              2  non-coding               5  \n"
     ]
    }
   ],
   "source": [
    "data = data.merge(exon_counts, on=\"geneName\", how=\"left\")\n",
    "print(data.head(2))"
   ]
  },
  {
   "cell_type": "code",
   "execution_count": 16,
   "id": "8c2e2bda",
   "metadata": {},
   "outputs": [
    {
     "name": "stdout",
     "output_type": "stream",
     "text": [
      "        geneName  max_exon_count  variant_count      coding\n",
      "0  0610005C13Rik               5              2  non-coding\n",
      "1  0610009B22Rik               2              1      coding\n",
      "2  0610009E02Rik               3              3  non-coding\n",
      "3  0610009L18Rik               2              1  non-coding\n",
      "4  0610010F05Rik              23              3  non-coding\n"
     ]
    }
   ],
   "source": [
    "summary = exon_counts.merge(\n",
    "    variant_counts, on=\"geneName\", how=\"left\"\n",
    ").merge(\n",
    "    data[[\"geneName\", \"coding\"]].drop_duplicates(),\n",
    "    on=\"geneName\",\n",
    "    how=\"left\"\n",
    ")\n",
    "print(summary.head())"
   ]
  },
  {
   "cell_type": "code",
   "execution_count": 24,
   "id": "c3f26d39",
   "metadata": {},
   "outputs": [
    {
     "data": {
      "image/png": "[encoded data removed]",
      "text/plain": [
       "<Figure size 800x600 with 1 Axes>"
      ]
     },
     "metadata": {},
     "output_type": "display_data"
    }
   ],
   "source": [
    "plt.figure(figsize=(8, 6))\n",
    "sns.scatterplot(\n",
    "    data=summary,\n",
    "    x=\"max_exon_count\",\n",
    "    y=\"variant_count\",\n",
    "    alpha=0.6,\n",
    "    hue=\"coding\",\n",
    "    palette={\"coding\": \"skyblue\", \"non-coding\": \"#D55E00\"},\n",
    ")\n",
    "\n",
    "plt.xlabel(\"Max Exon Count per Gene\")\n",
    "plt.ylabel(\"Transcript Variant Count per Gene\")\n",
    "plt.title(\"Exon Count vs Transcript Diversity\")\n",
    "plt.grid(True)\n",
    "plt.tight_layout()\n",
    "plt.show()\n"
   ]
  },
  {
   "cell_type": "code",
   "execution_count": 18,
   "id": "2979f4b7",
   "metadata": {},
   "outputs": [
    {
     "name": "stdout",
     "output_type": "stream",
     "text": [
      "      geneName  max_exon_count  variant_count      coding\n",
      "25516      Ttn             349              3      coding\n",
      "22987   Snhg14             172              1  non-coding\n",
      "16692      Neb             157              1      coding\n",
      "23898    Syne1             146              5      coding\n",
      "5411    Col7a1             119              1      coding\n"
     ]
    }
   ],
   "source": [
    "top_5_exon_counts = summary.nlargest(5, \"max_exon_count\")\n",
    "print(top_5_exon_counts)"
   ]
  },
  {
   "cell_type": "code",
   "execution_count": null,
   "id": "324d6f17",
   "metadata": {},
   "outputs": [
    {
     "name": "stdout",
     "output_type": "stream",
     "text": [
      "chrom\n",
      "chr2                      3974\n",
      "chr7                      3785\n",
      "chr11                     3479\n",
      "chr4                      2806\n",
      "chr5                      2769\n",
      "chr9                      2557\n",
      "chr1                      2544\n",
      "chr6                      2406\n",
      "chr8                      2310\n",
      "chr17                     2270\n",
      "chr3                      2225\n",
      "chr10                     2187\n",
      "chrX                      1872\n",
      "chr14                     1681\n",
      "chr15                     1679\n",
      "chr13                     1603\n",
      "chr12                     1591\n",
      "chr19                     1505\n",
      "chr16                     1431\n",
      "chr18                     1156\n",
      "chrY                       101\n",
      "chrX_GL456233v2_random       6\n",
      "chr1_GL456212v1_random       3\n",
      "chr1_GL456221v1_random       2\n",
      "chr1_MU069434v1_random       1\n",
      "chr1_GL456211v1_random       1\n",
      "chrUn_JH584304v1             1\n",
      "Name: count, dtype: int64\n"
     ]
    }
   ],
   "source": [
    "print(data[\"chrom\"].value_counts())"
   ]
  },
  {
   "cell_type": "code",
   "execution_count": 28,
   "id": "948c9103",
   "metadata": {},
   "outputs": [],
   "source": [
    "data.to_csv(\"../data/exon_classification_cleaned.csv\", index=False)"
   ]
  }
 ],
 "metadata": {
  "kernelspec": {
   "display_name": "KOnezumiEx",
   "language": "python",
   "name": "python3"
  },
  "language_info": {
   "codemirror_mode": {
    "name": "ipython",
    "version": 3
   },
   "file_extension": ".py",
   "mimetype": "text/x-python",
   "name": "python",
   "nbconvert_exporter": "python",
   "pygments_lexer": "ipython3",
   "version": "3.13.2"
  }
 },
 "nbformat": 4,
 "nbformat_minor": 5
}
